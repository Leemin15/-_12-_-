{
 "cells": [
  {
   "cell_type": "code",
   "execution_count": 2,
   "id": "f1b48b67",
   "metadata": {},
   "outputs": [],
   "source": [
    "import warnings\n",
    "warnings.filterwarnings(action='ignore')\n",
    "import pandas as pd\n",
    "nsmc_train_df = pd.read_csv('C:/Users/bana/Desktop/전공관련파일/4-2/데이터크롤링/14/13장/ratings_train.txt', encoding='utf8', sep='\\t', engine='python')\n",
    "#nsmc_train_df.head()"
   ]
  },
  {
   "cell_type": "code",
   "execution_count": 3,
   "id": "facbf230",
   "metadata": {},
   "outputs": [],
   "source": [
    "nsmc_train_df = nsmc_train_df[nsmc_train_df['document'].notnull()]\n",
    "#nsmc_train_df.info()\n",
    "#nsmc_train_df['label'].value_counts()"
   ]
  },
  {
   "cell_type": "code",
   "execution_count": 4,
   "id": "85427534",
   "metadata": {},
   "outputs": [],
   "source": [
    "import re\n",
    "nsmc_train_df['document'] = nsmc_train_df['document'].apply(lambda x : re.sub(r'[^ ㄱ-ㅎ|가-힣]+', \" \", x))\n",
    "#nsmc_train_df.head()"
   ]
  },
  {
   "cell_type": "code",
   "execution_count": 5,
   "id": "3de225f5",
   "metadata": {},
   "outputs": [],
   "source": [
    "nsmc_test_df = pd.read_csv('C:/Users/bana/Desktop/전공관련파일/4-2/데이터크롤링/14/13장/ratings_test.txt', encoding='utf8', sep='\\t', engine='python')\n",
    "#nsmc_test_df.head()\n",
    "#nsmc_test_df.info()\n",
    "nsmc_test_df = nsmc_test_df[nsmc_test_df['document'].notnull()]\n",
    "nsmc_test_df['label'].value_counts()\n",
    "nsmc_test_df['document'] = nsmc_test_df['document'].apply(lambda x : re.sub(r'[^ ㄱ-ㅎ|가-힣]+', \" \", x))\n",
    "#nsmc_train_df.head()"
   ]
  },
  {
   "cell_type": "code",
   "execution_count": 6,
   "id": "a23ae094",
   "metadata": {},
   "outputs": [],
   "source": [
    "from konlpy.tag import Okt\n",
    "okt = Okt()"
   ]
  },
  {
   "cell_type": "code",
   "execution_count": 7,
   "id": "abfd923b",
   "metadata": {},
   "outputs": [],
   "source": [
    "def okt_tokenizer(text):\n",
    "    tokens = okt.morphs(text)\n",
    "    return tokens"
   ]
  },
  {
   "cell_type": "code",
   "execution_count": 12,
   "id": "950d6f8d",
   "metadata": {},
   "outputs": [],
   "source": [
    "from sklearn.feature_extraction.text import TfidfVectorizer\n",
    "tfidf = TfidfVectorizer(tokenizer = okt_tokenizer, ngram_range = (1,2), min_df=3, max_df=0.9)\n",
    "tfidf.fit(nsmc_train_df['document'])\n",
    "nsmc_train_tfidf = tfidf.transform(nsmc_train_df['document'])"
   ]
  },
  {
   "cell_type": "code",
   "execution_count": 13,
   "id": "e0e8c5ed",
   "metadata": {},
   "outputs": [],
   "source": [
    "from sklearn.linear_model import LogisticRegression\n",
    "SA_lr = LogisticRegression(random_state = 0)"
   ]
  },
  {
   "cell_type": "code",
   "execution_count": 14,
   "id": "86fd059f",
   "metadata": {},
   "outputs": [
    {
     "data": {
      "text/plain": [
       "LogisticRegression(random_state=0)"
      ]
     },
     "execution_count": 14,
     "metadata": {},
     "output_type": "execute_result"
    }
   ],
   "source": [
    "SA_lr.fit(nsmc_train_tfidf, nsmc_train_df['label'])"
   ]
  },
  {
   "cell_type": "code",
   "execution_count": 15,
   "id": "93543f60",
   "metadata": {},
   "outputs": [],
   "source": [
    "from sklearn.model_selection import GridSearchCV\n",
    "\n",
    "params = {'C' : [1,3, 3.5, 4, 4.5, 5]}\n",
    "SA_lr_grid_cv = GridSearchCV(SA_lr, param_grid = params, cv=3, scoring = 'accuracy', verbose=1)"
   ]
  },
  {
   "cell_type": "code",
   "execution_count": 17,
   "id": "8d6a19f0",
   "metadata": {},
   "outputs": [
    {
     "name": "stdout",
     "output_type": "stream",
     "text": [
      "Fitting 3 folds for each of 6 candidates, totalling 18 fits\n"
     ]
    },
    {
     "data": {
      "text/plain": [
       "GridSearchCV(cv=3, estimator=LogisticRegression(random_state=0),\n",
       "             param_grid={'C': [1, 3, 3.5, 4, 4.5, 5]}, scoring='accuracy',\n",
       "             verbose=1)"
      ]
     },
     "execution_count": 17,
     "metadata": {},
     "output_type": "execute_result"
    }
   ],
   "source": [
    "SA_lr_grid_cv.fit(nsmc_train_tfidf, nsmc_train_df['label'])"
   ]
  },
  {
   "cell_type": "code",
   "execution_count": 18,
   "id": "5fea1553",
   "metadata": {},
   "outputs": [
    {
     "name": "stdout",
     "output_type": "stream",
     "text": [
      "{'C': 5} 0.8545\n"
     ]
    }
   ],
   "source": [
    "print(SA_lr_grid_cv.best_params_, round(SA_lr_grid_cv.best_score_, 4))"
   ]
  },
  {
   "cell_type": "code",
   "execution_count": 19,
   "id": "1631ac3d",
   "metadata": {},
   "outputs": [],
   "source": [
    "SA_lr_best = SA_lr_grid_cv.best_estimator_"
   ]
  },
  {
   "cell_type": "code",
   "execution_count": 20,
   "id": "3effb570",
   "metadata": {},
   "outputs": [],
   "source": [
    "nsmc_test_tfidf = tfidf.transform(nsmc_test_df['document'])"
   ]
  },
  {
   "cell_type": "code",
   "execution_count": 21,
   "id": "99ef3115",
   "metadata": {},
   "outputs": [],
   "source": [
    "test_predict = SA_lr_best.predict(nsmc_test_tfidf)"
   ]
  },
  {
   "cell_type": "code",
   "execution_count": 25,
   "id": "42371c7e",
   "metadata": {},
   "outputs": [
    {
     "name": "stdout",
     "output_type": "stream",
     "text": [
      "감성 분석 정확도 :  0.857\n"
     ]
    }
   ],
   "source": [
    "from sklearn.metrics import accuracy_score\n",
    "print('감성 분석 정확도 : ', round(accuracy_score(nsmc_test_df['label'], test_predict), 3))"
   ]
  },
  {
   "cell_type": "code",
   "execution_count": 26,
   "id": "2bd18632",
   "metadata": {},
   "outputs": [
    {
     "name": "stdout",
     "output_type": "stream",
     "text": [
      "감성 분석할 문장 입력 >>웃자 ^0^ 오늘은 좋은 날이 될거같은 예감\n"
     ]
    }
   ],
   "source": [
    "st = input(\"감성 분석할 문장 입력 >>\")"
   ]
  },
  {
   "cell_type": "code",
   "execution_count": 27,
   "id": "54ae80e2",
   "metadata": {},
   "outputs": [
    {
     "name": "stdout",
     "output_type": "stream",
     "text": [
      "['웃자', '오늘은', '좋은', '날이', '될거같은', '예감']\n",
      "['웃자 오늘은 좋은 날이 될거같은 예감']\n"
     ]
    }
   ],
   "source": [
    "st = re.compile(r'[ㄱ-ㅎ|가-힣]+').findall(st)\n",
    "print(st)\n",
    "st = [\" \".join(st)]\n",
    "print(st)"
   ]
  },
  {
   "cell_type": "code",
   "execution_count": 28,
   "id": "d21edc31",
   "metadata": {},
   "outputs": [],
   "source": [
    "st_tfidf = tfidf.transform(st)\n",
    "st_predict = SA_lr_best.predict(st_tfidf)"
   ]
  },
  {
   "cell_type": "code",
   "execution_count": 29,
   "id": "433baa36",
   "metadata": {},
   "outputs": [
    {
     "name": "stdout",
     "output_type": "stream",
     "text": [
      "['웃자 오늘은 좋은 날이 될거같은 예감'] -> 긍정 감성\n"
     ]
    }
   ],
   "source": [
    "if(st_predict == 0):\n",
    "    print(st , \"-> 부정 감성\")\n",
    "else:\n",
    "    print(st , \"-> 긍정 감성\")"
   ]
  },
  {
   "cell_type": "code",
   "execution_count": 30,
   "id": "169f0529",
   "metadata": {},
   "outputs": [
    {
     "data": {
      "text/html": [
       "<div>\n",
       "<style scoped>\n",
       "    .dataframe tbody tr th:only-of-type {\n",
       "        vertical-align: middle;\n",
       "    }\n",
       "\n",
       "    .dataframe tbody tr th {\n",
       "        vertical-align: top;\n",
       "    }\n",
       "\n",
       "    .dataframe thead th {\n",
       "        text-align: right;\n",
       "    }\n",
       "</style>\n",
       "<table border=\"1\" class=\"dataframe\">\n",
       "  <thead>\n",
       "    <tr style=\"text-align: right;\">\n",
       "      <th></th>\n",
       "      <th>title</th>\n",
       "      <th>description</th>\n",
       "    </tr>\n",
       "  </thead>\n",
       "  <tbody>\n",
       "    <tr>\n",
       "      <th>0</th>\n",
       "      <td>국민의힘        김건희 연수 이력 허위 의혹 제기  고발 방침</td>\n",
       "      <td>김병기 현안대응   단장은  김씨가 주장한     스턴 스쿨 연수 과정은 허위일 가...</td>\n",
       "    </tr>\n",
       "    <tr>\n",
       "      <th>1</th>\n",
       "      <td>구직 구인자 만남의 장       중구 일자리 박람회 개최</td>\n",
       "      <td>이번 박람회는 단계적 일상회복에 맞춰 코로나  로 얼어붙은    취업     시장을...</td>\n",
       "    </tr>\n",
       "    <tr>\n",
       "      <th>2</th>\n",
       "      <td>최태원 동생 최재원 수석부회장    온 대표로  년만에 경영 복귀</td>\n",
       "      <td>이후     년  월 가석방된 뒤    취업    제한을 적용받다   월 말    ...</td>\n",
       "    </tr>\n",
       "    <tr>\n",
       "      <th>3</th>\n",
       "      <td>춘해보건대  대학방사선사협회와 지방연수원 개설 업무협약 체결</td>\n",
       "      <td>감사말씀을 드린다      며       업무 협약을 통해 지방연수원뿐만 아니라 방...</td>\n",
       "    </tr>\n",
       "    <tr>\n",
       "      <th>4</th>\n",
       "      <td>코로나 고용충격  일용직 근로자  개월째 감소</td>\n",
       "      <td>통계청 고용동향에 따르면 지난달    취업    자 중 일용직 근로자는    만  ...</td>\n",
       "    </tr>\n",
       "  </tbody>\n",
       "</table>\n",
       "</div>"
      ],
      "text/plain": [
       "                                         title  \\\n",
       "0  국민의힘        김건희 연수 이력 허위 의혹 제기  고발 방침         \n",
       "1             구직 구인자 만남의 장       중구 일자리 박람회 개최   \n",
       "2         최태원 동생 최재원 수석부회장    온 대표로  년만에 경영 복귀   \n",
       "3            춘해보건대  대학방사선사협회와 지방연수원 개설 업무협약 체결   \n",
       "4                    코로나 고용충격  일용직 근로자  개월째 감소   \n",
       "\n",
       "                                         description  \n",
       "0  김병기 현안대응   단장은  김씨가 주장한     스턴 스쿨 연수 과정은 허위일 가...  \n",
       "1  이번 박람회는 단계적 일상회복에 맞춰 코로나  로 얼어붙은    취업     시장을...  \n",
       "2  이후     년  월 가석방된 뒤    취업    제한을 적용받다   월 말    ...  \n",
       "3  감사말씀을 드린다      며       업무 협약을 통해 지방연수원뿐만 아니라 방...  \n",
       "4  통계청 고용동향에 따르면 지난달    취업    자 중 일용직 근로자는    만  ...  "
      ]
     },
     "execution_count": 30,
     "metadata": {},
     "output_type": "execute_result"
    }
   ],
   "source": [
    "#파일 오픈\n",
    "import json\n",
    "\n",
    "file_name = '취업_naver_news'\n",
    "url = 'C:/Users/bana/Desktop/전공관련파일/4-2/데이터크롤링/기말/' + file_name + '.json'\n",
    "with open(url , encoding='utf8') as j_f:\n",
    "    data= json.load(j_f)\n",
    "\n",
    "\n",
    "#제목과 내용으로 분리\n",
    "data_title = []\n",
    "data_description = []\n",
    "\n",
    "for item in data:\n",
    "    data_title.append(item['title'])\n",
    "    data_description.append(item['description'])\n",
    "\n",
    "\n",
    "\n",
    "#dataframe으로 변환\n",
    "import pandas as pd\n",
    "data_df = pd.DataFrame({'title':data_title, 'description':data_description})\n",
    "\n",
    "\n",
    "#전처리\n",
    "import re\n",
    "data_df['title'] = data_df['title'].apply(lambda x : re.sub(r'[^ ㄱ-ㅎ|가-힣]', \" \", x))\n",
    "data_df['description'] = data_df['description'].apply(lambda x : re.sub(r'[^ ㄱ-ㅎ|가-힣]', \" \", x))\n",
    "\n",
    "data_df.head()"
   ]
  },
  {
   "cell_type": "code",
   "execution_count": 31,
   "id": "afa2453a",
   "metadata": {},
   "outputs": [],
   "source": [
    "data_title_tfidf = tfidf.transform(data_df['title'])\n",
    "\n",
    "data_title_predict = SA_lr_best.predict(data_title_tfidf)\n",
    "\n",
    "data_df['title_label'] = data_title_predict"
   ]
  },
  {
   "cell_type": "code",
   "execution_count": 32,
   "id": "b648409a",
   "metadata": {},
   "outputs": [],
   "source": [
    "data_description_tfidf = tfidf.transform(data_df['description'])\n",
    "\n",
    "data_description_predict = SA_lr_best.predict(data_description_tfidf)\n",
    "\n",
    "data_df['description_label'] = data_description_predict"
   ]
  },
  {
   "cell_type": "code",
   "execution_count": 36,
   "id": "9f3cc1e3",
   "metadata": {},
   "outputs": [
    {
     "name": "stdout",
     "output_type": "stream",
     "text": [
      "0    522\n",
      "1    478\n",
      "Name: title_label, dtype: int64\n",
      "\n",
      "1    520\n",
      "0    480\n",
      "Name: description_label, dtype: int64\n"
     ]
    }
   ],
   "source": [
    "#data_df.head()\n",
    "print(data_df['title_label'].value_counts())\n",
    "print()\n",
    "print(data_df['description_label'].value_counts())"
   ]
  },
  {
   "cell_type": "code",
   "execution_count": 41,
   "id": "b940484c",
   "metadata": {},
   "outputs": [],
   "source": [
    "columns_name = ['title', 'title_label', 'description', 'description_label']\n",
    "NEG_data_df = pd.DataFrame(columns = columns_name)\n",
    "POS_data_df = pd.DataFrame(columns = columns_name)\n",
    "\n",
    "for i, data in data_df.iterrows():\n",
    "    title = data[\"title\"]\n",
    "    description = data[\"description\"]\n",
    "    t_label = data[\"title_label\"]\n",
    "    d_label = data[\"description_label\"]\n",
    "    \n",
    "    if(d_label == 0): #제목은 무시하고, 내용이 부정감성인것만 추출\n",
    "        NEG_data_df = NEG_data_df.append(pd.DataFrame([[title, t_label, description, d_label]], columns = columns_name), ignore_index = True)\n",
    "    else:\n",
    "        POS_data_df = POS_data_df.append(pd.DataFrame([[title, t_label, description, d_label]], columns = columns_name), ignore_index = True)\n",
    "\n",
    "filename = '취업감성분류'\n",
    "NEG_data_df.to_csv(\"C:/Users/bana/Desktop/전공관련파일/4-2/데이터크롤링/14/13장/\"+filename+'_NEG.csv', encoding='euc-kr')\n",
    "POS_data_df.to_csv(\"C:/Users/bana/Desktop/전공관련파일/4-2/데이터크롤링/14/13장/\"+filename+'_POS.csv', encoding='euc-kr')"
   ]
  },
  {
   "cell_type": "code",
   "execution_count": 42,
   "id": "0f1b2616",
   "metadata": {},
   "outputs": [],
   "source": [
    "POS_description = POS_data_df['description']"
   ]
  },
  {
   "cell_type": "code",
   "execution_count": 43,
   "id": "d0f0f0e6",
   "metadata": {},
   "outputs": [],
   "source": [
    "POS_description_noun_tk = []\n",
    "for d in POS_description:\n",
    "    POS_description_noun_tk.append(okt.nouns(d))"
   ]
  },
  {
   "cell_type": "code",
   "execution_count": 45,
   "id": "809f9ac2",
   "metadata": {},
   "outputs": [],
   "source": [
    "#print(POS_description_noun_tk)"
   ]
  },
  {
   "cell_type": "code",
   "execution_count": 46,
   "id": "29f496d8",
   "metadata": {},
   "outputs": [],
   "source": [
    "POS_description_noun_join = []\n",
    "for d in POS_description_noun_tk:\n",
    "    d2 = [w for w in d if len(w) > 1]\n",
    "    POS_description_noun_join.append(\" \".join(d2))"
   ]
  },
  {
   "cell_type": "code",
   "execution_count": 48,
   "id": "f022fe51",
   "metadata": {},
   "outputs": [],
   "source": [
    "#print(POS_description_noun_join)"
   ]
  },
  {
   "cell_type": "code",
   "execution_count": 50,
   "id": "b1ea841e",
   "metadata": {},
   "outputs": [],
   "source": [
    "NEG_description = NEG_data_df['description']\n",
    "NEG_description_noun_tk = []\n",
    "for d in NEG_description:\n",
    "    NEG_description_noun_tk.append(okt.nouns(d))\n",
    "NEG_description_noun_join = []\n",
    "for d in NEG_description_noun_tk:\n",
    "    d2 = [w for w in d if len(w) > 1]\n",
    "    NEG_description_noun_join.append(\" \".join(d2))\n",
    "    \n",
    "#print(NEG_description_noun_join)"
   ]
  },
  {
   "cell_type": "code",
   "execution_count": 55,
   "id": "aa0791f1",
   "metadata": {},
   "outputs": [],
   "source": [
    "POS_tfidf = TfidfVectorizer(tokenizer = okt_tokenizer, min_df = 2)\n",
    "POS_dtm = POS_tfidf.fit_transform(POS_description_noun_join)"
   ]
  },
  {
   "cell_type": "code",
   "execution_count": 58,
   "id": "9a62c3a1",
   "metadata": {},
   "outputs": [],
   "source": [
    "POS_vocab = dict()\n",
    "for idx, word in enumerate(POS_tfidf.get_feature_names()):\n",
    "    POS_vocab[word] = POS_dtm.getcol(idx).sum()\n",
    "POS_words = sorted(POS_vocab.items(), key=lambda x: x[1], reverse=True)"
   ]
  },
  {
   "cell_type": "code",
   "execution_count": 60,
   "id": "be7638e6",
   "metadata": {},
   "outputs": [],
   "source": [
    "#POS_words"
   ]
  },
  {
   "cell_type": "code",
   "execution_count": 62,
   "id": "56ba6c6d",
   "metadata": {},
   "outputs": [],
   "source": [
    "NEG_tfidf = TfidfVectorizer(tokenizer = okt_tokenizer, min_df = 2)\n",
    "NEG_dtm = NEG_tfidf.fit_transform(NEG_description_noun_join)\n",
    "NEG_vocab = dict()\n",
    "for idx, word in enumerate(NEG_tfidf.get_feature_names()):\n",
    "    NEG_vocab[word] = NEG_dtm.getcol(idx).sum()\n",
    "NEG_words = sorted(NEG_vocab.items(), key=lambda x: x[1], reverse=True)\n",
    "#NEG_words"
   ]
  },
  {
   "cell_type": "code",
   "execution_count": 63,
   "id": "ea441b3b",
   "metadata": {
    "scrolled": true
   },
   "outputs": [],
   "source": [
    "import matplotlib\n",
    "import matplotlib.pyplot as plt\n",
    "import matplotlib.font_manager as fm\n",
    "\n",
    "fm.get_fontconfig_fonts()\n",
    "font_location = 'C:/Windows/Fonts/malgun.ttf'\n",
    "font_name = fm.FontProperties(fname = font_location).get_name()\n",
    "matplotlib.rc('font', family = font_name)\n",
    "\n",
    "max=15"
   ]
  },
  {
   "cell_type": "code",
   "execution_count": 66,
   "id": "7d58e90a",
   "metadata": {},
   "outputs": [
    {
     "data": {
      "image/png": "[encoded data removed]",
      "text/plain": [
       "<Figure size 432x288 with 1 Axes>"
      ]
     },
     "metadata": {
      "needs_background": "light"
     },
     "output_type": "display_data"
    }
   ],
   "source": [
    "plt.bar(range(max), [i[1] for i in POS_words[:max]], color=\"blue\")\n",
    "plt.title(\"긍정 취업관련단어 상위 %d개\" %max, fontsize=15)\n",
    "plt.xlabel(\"단어\", fontsize=12)\n",
    "plt.ylabel(\"TF-IDF의 합\", fontsize=12)\n",
    "plt.xticks(range(max), [i[0] for i in POS_words[:max]], rotation=70)\n",
    "plt.show()"
   ]
  },
  {
   "cell_type": "code",
   "execution_count": 67,
   "id": "c5f69c94",
   "metadata": {},
   "outputs": [
    {
     "data": {
      "image/png": "[encoded data removed]",
      "text/plain": [
       "<Figure size 432x288 with 1 Axes>"
      ]
     },
     "metadata": {
      "needs_background": "light"
     },
     "output_type": "display_data"
    }
   ],
   "source": [
    "plt.bar(range(max), [i[1] for i in NEG_words[:max]], color=\"blue\")\n",
    "plt.title(\"부정 취업관련단어 상위 %d개\" %max, fontsize=15)\n",
    "plt.xlabel(\"단어\", fontsize=12)\n",
    "plt.ylabel(\"TF-IDF의 합\", fontsize=12)\n",
    "plt.xticks(range(max), [i[0] for i in NEG_words[:max]], rotation=70)\n",
    "plt.show()"
   ]
  }
 ],
 "metadata": {
  "kernelspec": {
   "display_name": "Python 3 (ipykernel)",
   "language": "python",
   "name": "python3"
  },
  "language_info": {
   "codemirror_mode": {
    "name": "ipython",
    "version": 3
   },
   "file_extension": ".py",
   "mimetype": "text/x-python",
   "name": "python",
   "nbconvert_exporter": "python",
   "pygments_lexer": "ipython3",
   "version": "3.8.12"
  }
 },
 "nbformat": 4,
 "nbformat_minor": 5
}
